{
  "nbformat": 4,
  "nbformat_minor": 0,
  "metadata": {
    "colab": {
      "provenance": [],
      "gpuType": "T4",
      "authorship_tag": "ABX9TyMa8xeWOxaTk2IhitGRX/Qd",
      "include_colab_link": true
    },
    "kernelspec": {
      "name": "python3",
      "display_name": "Python 3"
    },
    "language_info": {
      "name": "python"
    },
    "accelerator": "GPU",
    "gpuClass": "standard"
  },
  "cells": [
    {
      "cell_type": "markdown",
      "metadata": {
        "id": "view-in-github",
        "colab_type": "text"
      },
      "source": [
        "<a href=\"https://colab.research.google.com/github/SubhamZap/Deep-Q-Learning/blob/main/Deep_Q_Learning.ipynb\" target=\"_parent\"><img src=\"https://colab.research.google.com/assets/colab-badge.svg\" alt=\"Open In Colab\"/></a>"
      ]
    },
    {
      "cell_type": "code",
      "execution_count": 1,
      "metadata": {
        "colab": {
          "base_uri": "https://localhost:8080/"
        },
        "id": "z1Q4lvp2Ngo9",
        "outputId": "922b6892-d594-4801-c69f-d5cb5e87b2aa"
      },
      "outputs": [
        {
          "output_type": "stream",
          "name": "stdout",
          "text": [
            "Looking in indexes: https://pypi.org/simple, https://us-python.pkg.dev/colab-wheels/public/simple/\n",
            "Collecting gymnasium\n",
            "  Downloading gymnasium-0.28.1-py3-none-any.whl (925 kB)\n",
            "\u001b[2K     \u001b[90m━━━━━━━━━━━━━━━━━━━━━━━━━━━━━━━━━━━━━━\u001b[0m \u001b[32m925.5/925.5 kB\u001b[0m \u001b[31m16.8 MB/s\u001b[0m eta \u001b[36m0:00:00\u001b[0m\n",
            "\u001b[?25hRequirement already satisfied: numpy>=1.21.0 in /usr/local/lib/python3.10/dist-packages (from gymnasium) (1.22.4)\n",
            "Collecting jax-jumpy>=1.0.0 (from gymnasium)\n",
            "  Downloading jax_jumpy-1.0.0-py3-none-any.whl (20 kB)\n",
            "Requirement already satisfied: cloudpickle>=1.2.0 in /usr/local/lib/python3.10/dist-packages (from gymnasium) (2.2.1)\n",
            "Requirement already satisfied: typing-extensions>=4.3.0 in /usr/local/lib/python3.10/dist-packages (from gymnasium) (4.5.0)\n",
            "Collecting farama-notifications>=0.0.1 (from gymnasium)\n",
            "  Downloading Farama_Notifications-0.0.4-py3-none-any.whl (2.5 kB)\n",
            "Installing collected packages: farama-notifications, jax-jumpy, gymnasium\n",
            "Successfully installed farama-notifications-0.0.4 gymnasium-0.28.1 jax-jumpy-1.0.0\n"
          ]
        }
      ],
      "source": [
        "!pip install gymnasium"
      ]
    },
    {
      "cell_type": "code",
      "source": [
        "import gymnasium as gym\n",
        "import matplotlib\n",
        "import matplotlib.pyplot as plt\n",
        "import math\n",
        "import random\n",
        "from collections import namedtuple, deque\n",
        "from itertools import count"
      ],
      "metadata": {
        "id": "vHQa9Zw4Nqag"
      },
      "execution_count": 2,
      "outputs": []
    },
    {
      "cell_type": "code",
      "source": [
        "import torch\n",
        "import torch.nn as nn\n",
        "import torch.optim as optim\n",
        "import torch.nn.functional as F\n",
        "\n",
        "env = gym.make('CartPole-v1')"
      ],
      "metadata": {
        "id": "rrzPeIg5OCik"
      },
      "execution_count": 3,
      "outputs": []
    },
    {
      "cell_type": "code",
      "source": [
        "is_python = \"inline\" in matplotlib.get_backend()\n",
        "if is_python:\n",
        "  from IPython import display"
      ],
      "metadata": {
        "id": "JG3_jllqOiAl"
      },
      "execution_count": 4,
      "outputs": []
    },
    {
      "cell_type": "code",
      "source": [
        "# Check for GPU availability\n",
        "device = torch.device(\"cuda\" if torch.cuda.is_available() else \"cpu\")"
      ],
      "metadata": {
        "id": "yENjAJBNOi26"
      },
      "execution_count": 5,
      "outputs": []
    },
    {
      "cell_type": "code",
      "source": [
        "device"
      ],
      "metadata": {
        "colab": {
          "base_uri": "https://localhost:8080/"
        },
        "id": "Nm0jByICPQA1",
        "outputId": "b9c57b1d-d199-4bdd-be25-752949674dd4"
      },
      "execution_count": 6,
      "outputs": [
        {
          "output_type": "execute_result",
          "data": {
            "text/plain": [
              "device(type='cuda')"
            ]
          },
          "metadata": {},
          "execution_count": 6
        }
      ]
    },
    {
      "cell_type": "code",
      "source": [
        "Transition = namedtuple('Transition',\n",
        "                        ('state', 'action', 'next_state', 'reward'))\n",
        "\n",
        "class ReplayMemory(object):\n",
        "  def __init__(self, capacity):\n",
        "    self.memory = deque([], maxlen=capacity)\n",
        "\n",
        "  def push(self, *args):\n",
        "    self.memory.append(Transition(*args))\n",
        "  \n",
        "  def sample(self, batch_size):\n",
        "    return random.sample(self.memory, batch_size)\n",
        "  \n",
        "  def __len__(self):\n",
        "    return len(self.memory)"
      ],
      "metadata": {
        "id": "gc7gLnVgPmse"
      },
      "execution_count": 7,
      "outputs": []
    },
    {
      "cell_type": "code",
      "source": [
        "class DQN(nn.Module):\n",
        "\n",
        "  def __init__(self, n_obs, n_actions):\n",
        "    super(DQN, self).__init__()\n",
        "    self.layer_1 = nn.Linear(n_obs, 128)\n",
        "    self.layer_2 = nn.Linear(128, 128)\n",
        "    self.layer_3 = nn.Linear(128, n_actions)\n",
        "\n",
        "  def forward(self, x):\n",
        "    x = F.relu(self.layer_1(x))\n",
        "    x = F.relu(self.layer_2(x))\n",
        "    return self.layer_3(x)"
      ],
      "metadata": {
        "id": "QWOLji26XcY5"
      },
      "execution_count": 8,
      "outputs": []
    },
    {
      "cell_type": "code",
      "source": [
        "batch_size = 128\n",
        "gamma = 0.99\n",
        "eps_start = 0.9\n",
        "eps_end = 0.05\n",
        "eps_decay = 1000\n",
        "tau = 0.005\n",
        "lr = 1e-5"
      ],
      "metadata": {
        "id": "Md4EkkT2oZtA"
      },
      "execution_count": 9,
      "outputs": []
    },
    {
      "cell_type": "code",
      "source": [
        "n_actions = env.action_space.n\n",
        "state, info = env.reset()\n",
        "n_obs = len(state)"
      ],
      "metadata": {
        "id": "zsBWFtXMo5fS"
      },
      "execution_count": 10,
      "outputs": []
    },
    {
      "cell_type": "code",
      "source": [
        "policy_net = DQN(n_obs, n_actions).to(device)\n",
        "target_net = DQN(n_obs, n_actions).to(device)\n",
        "target_net.load_state_dict(policy_net.state_dict())\n",
        "\n",
        "optimizer = optim.AdamW(policy_net.parameters(), lr=lr, amsgrad = True)\n",
        "memory = ReplayMemory(1000)\n",
        "\n",
        "steps_done = 0\n",
        "\n",
        "def select_action(state):\n",
        "  global steps_done\n",
        "  sample = random.random()\n",
        "  eps_threshold = eps_end + (eps_start - eps_end) * math.exp(-1. * steps_done/eps_decay)\n",
        "  steps_done += 1\n",
        "  if sample > eps_threshold:\n",
        "    with torch.no_grad():\n",
        "      return policy_net(state).max(1)[1].view(1,1)\n",
        "  else:\n",
        "    return torch.tensor([[env.action_space.sample()]], device=device, dtype=torch.long)\n",
        "\n",
        "episode_durations = []\n",
        "\n",
        "def plot_durations(show_results = False):\n",
        "  plt.figure(1)\n",
        "  durations_t = torch.tensor(episode_durations, dtype=torch.float)\n",
        "  if show_results:\n",
        "    plt.title(\"Results\")\n",
        "  else:\n",
        "    plt.clf()\n",
        "    plt.title(\"Training...\")\n",
        "\n",
        "  plt.xlabel('Episodes')\n",
        "  plt.ylabel('Durations')\n",
        "  plt.plot(durations_t.numpy())\n",
        "\n",
        "  if len(durations_t) >= 100:\n",
        "    means = durations_t.unfold(0, 100, 1).mean(1).view(-1)\n",
        "    means = torch.cat((torch.zeros(99), means))\n",
        "    plt.plot(means.numpy())\n",
        "\n",
        "  plt.pause(0.001)\n",
        "  if is_python:\n",
        "    if not show_results:\n",
        "      display.display(plt.gcf())\n",
        "      display.clear_output(wait=True)\n",
        "    else:\n",
        "      display.display(plt.gcf())"
      ],
      "metadata": {
        "id": "OBTlD2Jzo9DL"
      },
      "execution_count": 33,
      "outputs": []
    },
    {
      "cell_type": "code",
      "source": [
        "def optimize_model():\n",
        "  if len(memory) < batch_size:\n",
        "    return\n",
        "  transitions = memory.sample(batch_size)\n",
        "  batch = Transition(*zip(*transitions))\n",
        "  non_final_mask = torch.tensor(tuple(map(lambda s: s is not None,\n",
        "                                          batch.next_state)), device=device, dtype=torch.bool)\n",
        "  non_final_next_states = torch.cat([s for s in batch.next_state\n",
        "                                     if s is not None])\n",
        "  state_batch = torch.cat(batch.state)\n",
        "  action_batch = torch.cat(batch.action)\n",
        "  reward_batch = torch.cat(batch.reward)\n",
        "\n",
        "  state_action_values = policy_net(state_batch).gather(1, action_batch)\n",
        "  next_state_values = torch.zeros(batch_size, device=device)\n",
        "  \n",
        "  with torch.no_grad():\n",
        "    next_state_values[non_final_mask] = target_net(non_final_next_states).max(1)[0]\n",
        "\n",
        "  expected_state_action_value = (next_state_values * gamma) + reward_batch\n",
        "  criterion = nn.SmoothL1Loss()\n",
        "  loss = criterion(state_action_values, expected_state_action_value.unsqueeze(1))\n",
        "\n",
        "  optimizer.zero_grad()\n",
        "  loss.backward()\n",
        "\n",
        "  torch.nn.utils.clip_grad_value_(policy_net.parameters(), 100)\n",
        "  optimizer.step()"
      ],
      "metadata": {
        "id": "RsKfl3nopcBv"
      },
      "execution_count": 31,
      "outputs": []
    },
    {
      "cell_type": "code",
      "source": [
        "if torch.cuda.is_available():\n",
        "  num_episodes = 600\n",
        "else:\n",
        "  num_episodes = 50\n",
        "\n",
        "for i_episodes in range(num_episodes):\n",
        "  state, info = env.reset()\n",
        "  state = torch.tensor(state, dtype=torch.float, device=device).unsqueeze(0)\n",
        "\n",
        "  for t in count():\n",
        "    action = select_action(state)\n",
        "    print(\"action: \", action)\n",
        "    print(\"action items: \", action.item())\n",
        "    print(\"env.step(action.item()): \", env.step(action.item()))\n",
        "    obs, reward, terminated, truncated, _ = env.step(action.item())\n",
        "    reward = torch.tensor([reward], device=device)\n",
        "    done = terminated or truncated\n",
        "\n",
        "    if terminated:\n",
        "      next_state = None\n",
        "    else:\n",
        "      next_state = torch.tensor(obs, dtype=torch.float, device=device).unsqueeze(0)\n",
        "    \n",
        "    memory.push(state, action, next_state, reward)\n",
        "    state = next_state\n",
        "    optimize_model()\n",
        "\n",
        "    target_net_state_dict = target_net.state_dict()\n",
        "    policy_net_state_dict = policy_net.state_dict()\n",
        "\n",
        "    for key in target_net_state_dict:\n",
        "      target_net_state_dict[key] = policy_net_state_dict[key]*tau + target_net_state_dict[key]*(1-tau)\n",
        "\n",
        "    target_net.load_state_dict(target_net_state_dict)\n",
        "\n",
        "    if done:\n",
        "      episode_durations.append(t+1)\n",
        "      plot_durations()\n",
        "      break\n",
        "    \n",
        "  print(\"Complete\")\n",
        "  plot_durations(show_results=True)\n",
        "  plt.ioff()\n",
        "  plt.show()"
      ],
      "metadata": {
        "colab": {
          "base_uri": "https://localhost:8080/",
          "height": 525
        },
        "id": "R_lXChsqp04K",
        "outputId": "f0cf7777-2b33-4387-b405-05281a7da717"
      },
      "execution_count": 34,
      "outputs": [
        {
          "output_type": "stream",
          "name": "stdout",
          "text": [
            "Complete\n"
          ]
        },
        {
          "output_type": "display_data",
          "data": {
            "text/plain": [
              "<Figure size 640x480 with 1 Axes>"
            ],
            "image/png": "[encoded data removed]"
          },
          "metadata": {}
        },
        {
          "output_type": "display_data",
          "data": {
            "text/plain": [
              "<Figure size 640x480 with 0 Axes>"
            ]
          },
          "metadata": {}
        },
        {
          "output_type": "display_data",
          "data": {
            "text/plain": [
              "<Figure size 640x480 with 0 Axes>"
            ]
          },
          "metadata": {}
        }
      ]
    },
    {
      "cell_type": "code",
      "source": [],
      "metadata": {
        "id": "MSv9NOLocn07"
      },
      "execution_count": 25,
      "outputs": []
    }
  ]
}